{
 "cells": [
  {
   "cell_type": "code",
   "execution_count": null,
   "id": "ced49f92-f54a-4efc-90f7-f5573f1c8d21",
   "metadata": {},
   "outputs": [
    {
     "name": "stdout",
     "output_type": "stream",
     "text": [
      "📡 Envío completo de datos a ThingSpeak (7 campos)\n"
     ]
    }
   ],
   "source": [
    "\n",
    "import requests\n",
    "import time\n",
    "\n",
    "# Claves del canal en ThingSpeak\n",
    "WRITE_API_KEY = \"UPK0LEEP6VWJC9DI\" #clave de escritura\n",
    "READ_API_KEY = \"GOZOJD0Z91D5Z9MK\"  #clave de lectura\n",
    "CHANNEL_ID = \"2912867\"\n",
    "\n",
    "# Función para enviar datos a los 7 campos del canal\n",
    "def enviar_datos(temp, humedad, presion, calidad_aire, gps, estado, luz):\n",
    "    url = (\n",
    "        f\"https://api.thingspeak.com/update?\"\n",
    "        f\"api_key={WRITE_API_KEY}\"\n",
    "        f\"&field1={temp}\"\n",
    "        f\"&field2={humedad}\"\n",
    "        f\"&field3={presion}\"\n",
    "        f\"&field4={calidad_aire}\"\n",
    "        f\"&field5={gps}\"\n",
    "        f\"&field6={estado}\"\n",
    "        f\"&field7={luz}\"\n",
    "        f\"&status=Funcionando\"\n",
    "    )\n",
    "    print(\"Enviando a:\", url)\n",
    "    respuesta = requests.get(url)\n",
    "    if respuesta.status_code == 200 and respuesta.text != '0':\n",
    "        print(\"✅ Datos enviados correctamente. ID:\", respuesta.text)\n",
    "    else:\n",
    "        print(\"❌ Error al enviar los datos.\")\n",
    "\n",
    "# Función para leer los últimos datos del canal\n",
    "def leer_datos():\n",
    "    url = f\"https://api.thingspeak.com/channels/{CHANNEL_ID}/feeds.json?api_key={READ_API_KEY}&results=1\"\n",
    "    respuesta = requests.get(url)\n",
    "    if respuesta.status_code == 200:\n",
    "        datos = respuesta.json()\n",
    "        print(\"📊 Última entrada registrada:\")\n",
    "        for entrada in datos[\"feeds\"]:\n",
    "            print(f\"Fecha: {entrada['created_at']}\")\n",
    "            print(f\"Temperatura: {entrada['field1']}°C\")\n",
    "            print(f\"Humedad: {entrada['field2']}%\")\n",
    "            print(f\"Presión: {entrada['field3']} hPa\")\n",
    "            print(f\"Calidad del aire: {entrada['field4']}\")\n",
    "            print(f\"GPS: {entrada['field5']}\")\n",
    "            print(f\"Estado: {entrada['field6']}\")\n",
    "            print(f\"Luz: {entrada['field7']} lux\")\n",
    "    else:\n",
    "        print(\"❌ Error al leer los datos.\")\n",
    "\n",
    "# Programa principal\n",
    "if __name__ == \"__main__\":\n",
    "    print(\"📡 Envío completo de datos a ThingSpeak (7 campos)\")\n",
    "\n",
    "    # Solicitar datos simulados al usuario\n",
    "    temp = input(\"Temperatura (°C): \")\n",
    "    humedad = input(\"Humedad (%): \")\n",
    "    presion = input(\"Presión (hPa): \")\n",
    "    calidad_aire = input(\"Calidad del aire (texto): \")\n",
    "    gps = input(\"Coordenadas GPS (ej. 38.0,-1.0): \")\n",
    "    estado = input(\"Estado (ON/OFF): \")\n",
    "    luz = input(\"Nivel de luz (lux): \")\n",
    "\n",
    "    # Enviar datos\n",
    "    enviar_datos(temp, humedad, presion, calidad_aire, gps, estado, luz)\n",
    "    time.sleep(5)\n",
    "    leer_datos()"
   ]
  },
  {
   "cell_type": "code",
   "execution_count": null,
   "id": "6a0d8715-3ed5-4563-9885-5de380c2d3c1",
   "metadata": {},
   "outputs": [],
   "source": []
  }
 ],
 "metadata": {
  "kernelspec": {
   "display_name": "Python 3 (ipykernel)",
   "language": "python",
   "name": "python3"
  },
  "language_info": {
   "codemirror_mode": {
    "name": "ipython",
    "version": 3
   },
   "file_extension": ".py",
   "mimetype": "text/x-python",
   "name": "python",
   "nbconvert_exporter": "python",
   "pygments_lexer": "ipython3",
   "version": "3.12.8"
  }
 },
 "nbformat": 4,
 "nbformat_minor": 5
}
